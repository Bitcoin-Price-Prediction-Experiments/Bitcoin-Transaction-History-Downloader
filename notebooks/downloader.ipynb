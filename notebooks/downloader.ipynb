{
 "cells": [
  {
   "cell_type": "markdown",
   "id": "c4d8dcb1-0c07-4e6b-8777-29c0b37f3f75",
   "metadata": {},
   "source": [
    "# Downloading Bitcoin Transaction History Database"
   ]
  },
  {
   "cell_type": "markdown",
   "id": "9f184840-8568-47b5-85d5-4f54d7bd7297",
   "metadata": {},
   "source": [
    "Various sources provide Bitcoin [datasets](https://www.kaggle.com/datasets/prasoonkottarathil/btcinusd), but most of these datasets are distributed in daily intervals. In our case, we need minute-by-minute intervals. Some datasets do offer minute-by-minute or hour-by-hou Bitcoin price data, but they are neither up-to-date nor complete.\n",
    "\n",
    "Fortunately, there is a website known as [Bitget](https://www.bitget.com/data-download/spot-historical-transaction-record), that offers Bitcoin transaction history from 2018 to 2024. However, since files from Bitget can only be downloaded individually, we will use Selenium to automate the process of imitating user interactions. This approach will enable us to download the datasets for each year from 2021 to 2024 and later merge them into a single comprehensive dataset."
   ]
  },
  {
   "cell_type": "code",
   "execution_count": 1,
   "id": "39a4b355-44fe-433c-9658-d4d0c7086244",
   "metadata": {},
   "outputs": [],
   "source": [
    "import time\n",
    "from selenium import webdriver\n",
    "from chromedriver_py import binary_path\n",
    "from selenium.webdriver.chrome.options import Options\n",
    "from selenium.webdriver.common.by import By\n",
    "from selenium.webdriver.support import expected_conditions as EC\n",
    "from selenium.common.exceptions import StaleElementReferenceException, WebDriverException"
   ]
  },
  {
   "cell_type": "code",
   "execution_count": 2,
   "id": "e38788de-fafe-4b61-bf78-3fce363fa87f",
   "metadata": {},
   "outputs": [],
   "source": [
    "options = Options()\n",
    "\n",
    "prefs = {\"download.default_directory\" : r\"~/btc-transactions/\"} # Set the default download directory for transaction files. Update this path as needed.\n",
    "\n",
    "options.add_experimental_option(\"prefs\",prefs);\n",
    "options.add_argument('--no-sandbox')\n",
    "\n",
    "svc = webdriver.ChromeService(executable_path=binary_path)\n",
    "driver = webdriver.Chrome(service=svc, options=options)\n",
    "\n",
    "driver.get(\"https://www.bitget.com/data-download/spot-historical-transaction-record\")\n",
    "\n",
    "driver.find_element(By.XPATH, \"//div[@class='item flex items-center px-18px h-104px rounded-12px text-primaryText cursor-pointer hover:bg-cardBg <md:px-0 <md:h-72px']\").click()\n",
    "time.sleep(2)\n",
    "\n",
    "element = driver.find_element(By.XPATH, \"//div[@class='ml-auto !w-288px !<xl:w-210px !<md:w-full <md:mt-24px bit-input bit-input--medium bit-input--round bit-input--prefix bit-input--suffix']\")\n",
    "time.sleep(2)"
   ]
  },
  {
   "cell_type": "code",
   "execution_count": null,
   "id": "d863ba8b-42b7-4d8f-8737-b4ce1322a454",
   "metadata": {},
   "outputs": [],
   "source": [
    "input_text = element.find_element(By.XPATH, \".//input[@class='bit-input__inner']\")\n",
    "input_text.clear()\n",
    "input_text.send_keys('2021')\n",
    "time.sleep(1)\n",
    "\n",
    "button_element = driver.find_element(By.XPATH, \"//div[@class='file-list']\")\n",
    "next_button = button_element.find_element(By.XPATH, \".//button[@class='pagination-label-arrow__next']\")\n",
    "\n",
    "for i in range(60):\n",
    "    driver.execute_script(\"window.scrollTo(0, -document.body.scrollHeight);\")\n",
    "\n",
    "    downloads = driver.find_elements(By.XPATH, \"//a[@class='download text-16px text-primaryText cursor-pointer <md:mt-4px <md:ml-40px <md:text-12px']\")\n",
    "\n",
    "    for download in downloads:\n",
    "        try:\n",
    "            download.click()\n",
    "        except StaleElementReferenceException:\n",
    "            continue\n",
    "    \n",
    "    try:\n",
    "        time.sleep(1)\n",
    "        next_button.click()\n",
    "        time.sleep(1)\n",
    "    except (StaleElementReferenceException, WebDriverException):\n",
    "        print(\"Next button is no longer clickable.\")\n",
    "        break"
   ]
  },
  {
   "cell_type": "code",
   "execution_count": null,
   "id": "35a5290c-5550-4481-bfa3-20ca5011ef66",
   "metadata": {},
   "outputs": [],
   "source": [
    "input_text = element.find_element(By.XPATH, \".//input[@class='bit-input__inner']\")\n",
    "input_text.clear()\n",
    "input_text.send_keys('2022')\n",
    "time.sleep(1)\n",
    "\n",
    "button_element = driver.find_element(By.XPATH, \"//div[@class='file-list']\")\n",
    "next_button = button_element.find_element(By.XPATH, \".//button[@class='pagination-label-arrow__next']\")\n",
    "\n",
    "for i in range(60):\n",
    "    driver.execute_script(\"window.scrollTo(0, -document.body.scrollHeight);\")\n",
    "\n",
    "    downloads = driver.find_elements(By.XPATH, \"//a[@class='download text-16px text-primaryText cursor-pointer <md:mt-4px <md:ml-40px <md:text-12px']\")\n",
    "\n",
    "    for download in downloads:\n",
    "        try:\n",
    "            download.click()\n",
    "        except StaleElementReferenceException:\n",
    "            continue\n",
    "\n",
    "    try:\n",
    "        time.sleep(1)\n",
    "        next_button.click()\n",
    "        time.sleep(1)\n",
    "    except (StaleElementReferenceException, WebDriverException):\n",
    "        print(\"Next button is no longer clickable.\")\n",
    "        break"
   ]
  },
  {
   "cell_type": "code",
   "execution_count": 93,
   "id": "388d65ed-be9a-4b8f-a629-478ef35ab2c4",
   "metadata": {},
   "outputs": [],
   "source": [
    "input_text = element.find_element(By.XPATH, \".//input[@class='bit-input__inner']\")\n",
    "input_text.clear()\n",
    "input_text.send_keys('2023')\n",
    "time.sleep(1)\n",
    "\n",
    "button_element = driver.find_element(By.XPATH, \"//div[@class='file-list']\")\n",
    "next_button = button_element.find_element(By.XPATH, \".//button[@class='pagination-label-arrow__next']\")\n",
    "\n",
    "for i in range(60):\n",
    "    driver.execute_script(\"window.scrollTo(0, -document.body.scrollHeight);\")\n",
    "\n",
    "    downloads = driver.find_elements(By.XPATH, \"//a[@class='download text-16px text-primaryText cursor-pointer <md:mt-4px <md:ml-40px <md:text-12px']\")\n",
    "\n",
    "    for download in downloads:\n",
    "        try:\n",
    "            download.click()\n",
    "        except StaleElementReferenceException:\n",
    "            continue\n",
    "\n",
    "    try:\n",
    "        time.sleep(1)\n",
    "        next_button.click()\n",
    "        time.sleep(1)\n",
    "    except (StaleElementReferenceException, WebDriverException):\n",
    "        print(\"Next button is no longer clickable.\")\n",
    "        break"
   ]
  },
  {
   "cell_type": "code",
   "execution_count": 95,
   "id": "b268368b-a4d6-4bab-a9e2-a6b96333f6a2",
   "metadata": {},
   "outputs": [],
   "source": [
    "from selenium import webdriver\n",
    "from selenium.webdriver.common.by import By\n",
    "from selenium.common.exceptions import StaleElementReferenceException, WebDriverException\n",
    "\n",
    "input_text = element.find_element(By.XPATH, \".//input[@class='bit-input__inner']\")\n",
    "input_text.clear()\n",
    "input_text.send_keys('2024')\n",
    "time.sleep(1)\n",
    "\n",
    "button_element = driver.find_element(By.XPATH, \"//div[@class='file-list']\") \n",
    "next_button = button_element.find_element(By.XPATH, \".//button[@class='pagination-label-arrow__next']\")\n",
    "\n",
    "for i in range(30):\n",
    "    driver.execute_script(\"window.scrollTo(0, -document.body.scrollHeight);\")\n",
    "\n",
    "    downloads = driver.find_elements(By.XPATH, \"//a[@class='download text-16px text-primaryText cursor-pointer <md:mt-4px <md:ml-40px <md:text-12px']\")\n",
    "\n",
    "    for download in downloads:\n",
    "        try:\n",
    "            download.click()\n",
    "        except StaleElementReferenceException:\n",
    "            continue\n",
    "\n",
    "    try:\n",
    "        time.sleep(1)\n",
    "        next_button.click()\n",
    "        time.sleep(1)\n",
    "    except (StaleElementReferenceException, WebDriverException):\n",
    "        print(\"Next button is no longer clickable.\")\n",
    "        break"
   ]
  },
  {
   "cell_type": "code",
   "execution_count": 97,
   "id": "b22b9650-d77a-4f35-b121-24d5cc764fb6",
   "metadata": {},
   "outputs": [],
   "source": [
    "driver.quit()"
   ]
  },
  {
   "cell_type": "markdown",
   "id": "6fe2ada9-bb6c-483d-aabc-54f64882486f",
   "metadata": {},
   "source": [
    "#### The number of downloaded files is big, so they won't be stored on github, and the final dataset will be stored in Kaggle for more efficient management and accessibility.\n",
    "Link to Kaggle dataset: _(Not defined yet)_"
   ]
  }
 ],
 "metadata": {
  "kernelspec": {
   "display_name": "Python 3 (ipykernel)",
   "language": "python",
   "name": "python3"
  },
  "language_info": {
   "codemirror_mode": {
    "name": "ipython",
    "version": 3
   },
   "file_extension": ".py",
   "mimetype": "text/x-python",
   "name": "python",
   "nbconvert_exporter": "python",
   "pygments_lexer": "ipython3",
   "version": "3.10.12"
  }
 },
 "nbformat": 4,
 "nbformat_minor": 5
}
